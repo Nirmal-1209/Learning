{
 "cells": [
  {
   "cell_type": "code",
   "execution_count": 3,
   "id": "fee76b95",
   "metadata": {},
   "outputs": [],
   "source": [
    "import numpy as np"
   ]
  },
  {
   "cell_type": "code",
   "execution_count": null,
   "id": "7863b0c5",
   "metadata": {},
   "outputs": [
    {
     "name": "stdout",
     "output_type": "stream",
     "text": [
      "[1 2 3 4 5]\n",
      "(5,)\n",
      "[1 2 3 4 5 6]\n",
      "(6,)\n",
      "[[1 2 3 4 5 6]]\n",
      "[1 2 3 4 5 6]\n",
      "(6,)\n"
     ]
    }
   ],
   "source": [
    "# Create Arrays using numpy\n",
    "# 1-D Array\n",
    "arr1 = np.array([1, 2, 3, 4, 5]) # using list\n",
    "print(arr1)\n",
    "print(arr1.shape)\n",
    "\n",
    "arr2 = np.array((1, 2, 3, 4, 5, 6)) # using tuple\n",
    "print(arr2)\n",
    "print(arr2.shape)\n",
    "\n",
    "print(arr2.reshape(1, 6)) # converting 1D to 2D array, it means converts the array into 2D array with 1 row and it contains 6 elements\n",
    "\n",
    "# above ,ethod does not make any permanent changes\n",
    "print(arr2)\n",
    "print(arr2.shape)"
   ]
  },
  {
   "cell_type": "code",
   "execution_count": 13,
   "id": "7cd0e033",
   "metadata": {},
   "outputs": [
    {
     "name": "stdout",
     "output_type": "stream",
     "text": [
      "[[ 1  2  3  4  5]\n",
      " [ 6  7  8  9 10]]\n",
      "(2, 5)\n"
     ]
    }
   ],
   "source": [
    "# 2-D Array\n",
    "\n",
    "arr3 = np.array([[1, 2, 3, 4, 5], [6, 7, 8, 9, 10]])\n",
    "print(arr3)\n",
    "print(arr3.shape)"
   ]
  },
  {
   "cell_type": "code",
   "execution_count": null,
   "id": "858147b1",
   "metadata": {},
   "outputs": [
    {
     "data": {
      "text/plain": [
       "array([[0],\n",
       "       [2],\n",
       "       [4],\n",
       "       [6],\n",
       "       [8]])"
      ]
     },
     "execution_count": 15,
     "metadata": {},
     "output_type": "execute_result"
    }
   ],
   "source": [
    "np.arange(0, 10, 2).reshape(5, 1) # creating element between 0-10 with step=2, converting it to 2-D array with 5 rows and each row contains 1 element each"
   ]
  },
  {
   "cell_type": "code",
   "execution_count": 16,
   "id": "1cd21961",
   "metadata": {},
   "outputs": [
    {
     "data": {
      "text/plain": [
       "array([[1., 1., 1., 1.],\n",
       "       [1., 1., 1., 1.],\n",
       "       [1., 1., 1., 1.]])"
      ]
     },
     "execution_count": 16,
     "metadata": {},
     "output_type": "execute_result"
    }
   ],
   "source": [
    "np.ones((3, 4)) # create 2-D array on 3 rows and 4 columns"
   ]
  },
  {
   "cell_type": "code",
   "execution_count": 17,
   "id": "7ff06ed6",
   "metadata": {},
   "outputs": [
    {
     "data": {
      "text/plain": [
       "array([[1., 0., 0.],\n",
       "       [0., 1., 0.],\n",
       "       [0., 0., 1.]])"
      ]
     },
     "execution_count": 17,
     "metadata": {},
     "output_type": "execute_result"
    }
   ],
   "source": [
    "## Identity Matrix\n",
    "np.eye(3)"
   ]
  },
  {
   "cell_type": "code",
   "execution_count": 23,
   "id": "0f9e2efb",
   "metadata": {},
   "outputs": [
    {
     "name": "stdout",
     "output_type": "stream",
     "text": [
      "number of dimensions :  2\n",
      "Data type :  int64\n",
      "Size numner of elements :  10\n",
      "Item size in bytes :  8\n"
     ]
    }
   ],
   "source": [
    "arr4 = np.array([[1, 2, 3, 4, 5], [6, 7, 8, 9, 10]])\n",
    "print(\"number of dimensions : \", arr4.ndim)\n",
    "print(\"Data type : \", arr4.dtype)\n",
    "print(\"Size numner of elements : \", arr4.size)\n",
    "print(\"Item size in bytes : \", arr4.itemsize)"
   ]
  },
  {
   "cell_type": "markdown",
   "id": "024d5762",
   "metadata": {},
   "source": [
    "Numpy Vectorized Operation\n"
   ]
  },
  {
   "cell_type": "code",
   "execution_count": 24,
   "id": "fb0355ec",
   "metadata": {},
   "outputs": [
    {
     "name": "stdout",
     "output_type": "stream",
     "text": [
      "Addition :  [11 22 33 44 55]\n",
      "Subtraction :  [ -9 -18 -27 -36 -45]\n",
      "Multiplication :  [ 10  40  90 160 250]\n",
      "Division :  [0.1 0.1 0.1 0.1 0.1]\n",
      "Modulus :  [1 2 3 4 5]\n"
     ]
    }
   ],
   "source": [
    "num1 = np.array([1, 2, 3, 4, 5])\n",
    "num2 = np.array([10, 20, 30, 40, 50])\n",
    "\n",
    "print(\"Addition : \", num1+num2)\n",
    "print(\"Subtraction : \", num1-num2)\n",
    "print(\"Multiplication : \", num1 * num2)\n",
    "print(\"Division : \", num1/num2)\n",
    "print(\"Modulus : \", num1%num2)"
   ]
  },
  {
   "cell_type": "markdown",
   "id": "d3690570",
   "metadata": {},
   "source": [
    "Universal Function\n"
   ]
  },
  {
   "cell_type": "code",
   "execution_count": 26,
   "id": "b25d57d2",
   "metadata": {},
   "outputs": [
    {
     "name": "stdout",
     "output_type": "stream",
     "text": [
      "[1.41421356 1.73205081 2.         2.23606798 2.44948974]\n",
      "[  7.3890561   20.08553692  54.59815003 148.4131591  403.42879349]\n",
      "[ 0.90929743  0.14112001 -0.7568025  -0.95892427 -0.2794155 ]\n",
      "[0.69314718 1.09861229 1.38629436 1.60943791 1.79175947]\n"
     ]
    }
   ],
   "source": [
    "arr = np.array([2, 3, 4, 5, 6])\n",
    "print(np.sqrt(arr))\n",
    "print(np.exp(arr))\n",
    "print(np.sin(arr))\n",
    "print(np.log(arr))"
   ]
  },
  {
   "cell_type": "code",
   "execution_count": 35,
   "id": "9cd680a2",
   "metadata": {},
   "outputs": [
    {
     "data": {
      "text/plain": [
       "np.int64(6)"
      ]
     },
     "execution_count": 35,
     "metadata": {},
     "output_type": "execute_result"
    }
   ],
   "source": [
    "arr = np.arange(1, 13, 1).reshape(3, 4)\n",
    "arr[1][1]\n"
   ]
  },
  {
   "cell_type": "code",
   "execution_count": null,
   "id": "d28c3918",
   "metadata": {},
   "outputs": [
    {
     "data": {
      "text/plain": [
       "array([[ 7,  8],\n",
       "       [11, 12]])"
      ]
     },
     "execution_count": 38,
     "metadata": {},
     "output_type": "execute_result"
    }
   ],
   "source": [
    "# getting sub-matrix from a marix\n",
    "# first choose the rows from where you want to start here it is 2nd row so we will write 1:\n",
    "# then choose the column from where you want to start here it is 3rd so we will write 2:\n",
    "arr[1:, 2:] "
   ]
  },
  {
   "cell_type": "code",
   "execution_count": 40,
   "id": "6f8e9bb5",
   "metadata": {},
   "outputs": [
    {
     "data": {
      "text/plain": [
       "array([[3, 4],\n",
       "       [7, 8]])"
      ]
     },
     "execution_count": 40,
     "metadata": {},
     "output_type": "execute_result"
    }
   ],
   "source": [
    "arr[:2, 2:]"
   ]
  },
  {
   "cell_type": "code",
   "execution_count": 42,
   "id": "abf5547d",
   "metadata": {},
   "outputs": [
    {
     "data": {
      "text/plain": [
       "array([[100,   2,   3,   4],\n",
       "       [  5,   6,   7,   8],\n",
       "       [  9,  10,  11,  12]])"
      ]
     },
     "execution_count": 42,
     "metadata": {},
     "output_type": "execute_result"
    }
   ],
   "source": [
    "# Modifying array elements\n",
    "arr[0, 0] = 100\n",
    "arr"
   ]
  },
  {
   "cell_type": "code",
   "execution_count": 43,
   "id": "36a64ae5",
   "metadata": {},
   "outputs": [
    {
     "data": {
      "text/plain": [
       "array([[100,   2,   3,   4],\n",
       "       [ 69,  69,  69,  69],\n",
       "       [ 69,  69,  69,  69]])"
      ]
     },
     "execution_count": 43,
     "metadata": {},
     "output_type": "execute_result"
    }
   ],
   "source": [
    "arr[1:] = 69\n",
    "arr"
   ]
  },
  {
   "cell_type": "markdown",
   "id": "08f137a5",
   "metadata": {},
   "source": [
    "Statistical Concepts\n",
    "Normalization"
   ]
  },
  {
   "cell_type": "code",
   "execution_count": 49,
   "id": "cb217faa",
   "metadata": {},
   "outputs": [
    {
     "name": "stdout",
     "output_type": "stream",
     "text": [
      "Mean :  3.0\n",
      "Median :  3.0\n",
      "Standard Deviation :  1.4142135623730951\n",
      "Variance :  2.0\n",
      "Normalized data :  [-1.41421356 -0.70710678  0.          0.70710678  1.41421356]\n"
     ]
    }
   ],
   "source": [
    "# Normalization means converting your data in such a way that your mean is zero and standard deviation is 1\n",
    "data = np.array([1, 2, 3, 4, 5])\n",
    "mean = np.mean(data)\n",
    "std_dev = np.std(data)\n",
    "variance = np.var(data)\n",
    "median = np.median(data)\n",
    "\n",
    "print(\"Mean : \", mean)\n",
    "print(\"Median : \", median)\n",
    "print(\"Standard Deviation : \", std_dev)\n",
    "print(\"Variance : \", variance)\n",
    "\n",
    "normalized_data = (data - mean) / std_dev\n",
    "print(\"Normalized data : \", normalized_data)"
   ]
  },
  {
   "cell_type": "markdown",
   "id": "b59d6adc",
   "metadata": {},
   "source": [
    "Logical Operation\n"
   ]
  },
  {
   "cell_type": "code",
   "execution_count": 54,
   "id": "1ab6e011",
   "metadata": {},
   "outputs": [
    {
     "name": "stdout",
     "output_type": "stream",
     "text": [
      "[10 11 12 13 14 15]\n",
      "[ 5 10 11 12 13]\n"
     ]
    }
   ],
   "source": [
    "data = np.array([1, 2, 3, 4, 5, 10, 11, 12, 13, 14, 15])\n",
    "# NumPy does element-wise comparison, returning a boolean array\n",
    "# Wherever the boolean array is True, the corresponding element is selected.\n",
    "print(data[data>5])\n",
    "print(data[(data>=5) & (data<=13)])\n",
    "\n",
    "# and, or, and not do not work for element-wise logical operations.\n",
    "# Python’s \"and\" tries to evaluate the truth value of the whole array,\n",
    "# but NumPy arrays can have many True/False values,\n",
    "# so Python doesn’t know if the “truth” of the whole array is True or False.\n",
    "# print(data[(data>=5) and (data<=13)])"
   ]
  },
  {
   "cell_type": "code",
   "execution_count": null,
   "id": "c9c41e28",
   "metadata": {},
   "outputs": [],
   "source": []
  }
 ],
 "metadata": {
  "kernelspec": {
   "display_name": "Python 3",
   "language": "python",
   "name": "python3"
  },
  "language_info": {
   "codemirror_mode": {
    "name": "ipython",
    "version": 3
   },
   "file_extension": ".py",
   "mimetype": "text/x-python",
   "name": "python",
   "nbconvert_exporter": "python",
   "pygments_lexer": "ipython3",
   "version": "3.10.16"
  }
 },
 "nbformat": 4,
 "nbformat_minor": 5
}
