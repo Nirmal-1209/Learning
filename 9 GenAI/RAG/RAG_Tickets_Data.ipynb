{
 "cells": [
  {
   "cell_type": "code",
   "execution_count": 18,
   "id": "27612c90",
   "metadata": {},
   "outputs": [],
   "source": [
    "import pandas as pd"
   ]
  },
  {
   "cell_type": "code",
   "execution_count": 19,
   "id": "b2c1aa59",
   "metadata": {},
   "outputs": [
    {
     "name": "stdout",
     "output_type": "stream",
     "text": [
      "Loaded 8469 tickets\n"
     ]
    }
   ],
   "source": [
    "df = pd.read_csv('csts.csv')\n",
    "print(f\"Loaded {len(df)} tickets\")"
   ]
  },
  {
   "cell_type": "code",
   "execution_count": 20,
   "id": "ae9ddffd",
   "metadata": {},
   "outputs": [
    {
     "name": "stdout",
     "output_type": "stream",
     "text": [
      "      Ticket ID        Customer Name              Customer Email  \\\n",
      "0             1        Marisa Obrien  carrollallison@example.com   \n",
      "1             2         Jessica Rios    clarkeashley@example.com   \n",
      "2             3  Christopher Robbins   gonzalestracy@example.com   \n",
      "3             4     Christina Dillon    bradleyolson@example.org   \n",
      "4             5    Alexander Carroll     bradleymark@example.com   \n",
      "...         ...                  ...                         ...   \n",
      "8464       8465           David Todd          adam28@example.net   \n",
      "8465       8466           Lori Davis       russell68@example.com   \n",
      "8466       8467      Michelle Kelley        ashley83@example.org   \n",
      "8467       8468     Steven Rodriguez         fpowell@example.org   \n",
      "8468       8469      Steven Davis MD          lori20@example.net   \n",
      "\n",
      "      Customer Age Customer Gender       Product Purchased Date of Purchase  \\\n",
      "0               32           Other              GoPro Hero       2021-03-22   \n",
      "1               42          Female             LG Smart TV       2021-05-22   \n",
      "2               48           Other                Dell XPS       2020-07-14   \n",
      "3               27          Female        Microsoft Office       2020-11-13   \n",
      "4               67          Female        Autodesk AutoCAD       2020-02-04   \n",
      "...            ...             ...                     ...              ...   \n",
      "8464            22          Female                 LG OLED       2021-12-08   \n",
      "8465            27          Female  Bose SoundLink Speaker       2020-02-22   \n",
      "8466            57          Female     GoPro Action Camera       2021-08-17   \n",
      "8467            54            Male             PlayStation       2021-10-16   \n",
      "8468            53           Other      Philips Hue Lights       2020-06-01   \n",
      "\n",
      "          Ticket Type            Ticket Subject  \\\n",
      "0     Technical issue             Product setup   \n",
      "1     Technical issue  Peripheral compatibility   \n",
      "2     Technical issue           Network problem   \n",
      "3     Billing inquiry            Account access   \n",
      "4     Billing inquiry                 Data loss   \n",
      "...               ...                       ...   \n",
      "8464  Product inquiry      Installation support   \n",
      "8465  Technical issue            Refund request   \n",
      "8466  Technical issue            Account access   \n",
      "8467  Product inquiry             Payment issue   \n",
      "8468  Billing inquiry            Hardware issue   \n",
      "\n",
      "                                     Ticket Description  \\\n",
      "0     I'm having an issue with the {product_purchase...   \n",
      "1     I'm having an issue with the {product_purchase...   \n",
      "2     I'm facing a problem with my {product_purchase...   \n",
      "3     I'm having an issue with the {product_purchase...   \n",
      "4     I'm having an issue with the {product_purchase...   \n",
      "...                                                 ...   \n",
      "8464  My {product_purchased} is making strange noise...   \n",
      "8465  I'm having an issue with the {product_purchase...   \n",
      "8466  I'm having an issue with the {product_purchase...   \n",
      "8467  I'm having an issue with the {product_purchase...   \n",
      "8468  There seems to be a hardware problem with my {...   \n",
      "\n",
      "                  Ticket Status  \\\n",
      "0     Pending Customer Response   \n",
      "1     Pending Customer Response   \n",
      "2                        Closed   \n",
      "3                        Closed   \n",
      "4                        Closed   \n",
      "...                         ...   \n",
      "8464                       Open   \n",
      "8465                       Open   \n",
      "8466                     Closed   \n",
      "8467                     Closed   \n",
      "8468                       Open   \n",
      "\n",
      "                                         Resolution Ticket Priority  \\\n",
      "0                                               NaN        Critical   \n",
      "1                                               NaN        Critical   \n",
      "2      Case maybe show recently my computer follow.             Low   \n",
      "3     Try capital clearly never color toward story.             Low   \n",
      "4                       West decision evidence bit.             Low   \n",
      "...                                             ...             ...   \n",
      "8464                                            NaN             Low   \n",
      "8465                                            NaN        Critical   \n",
      "8466          Eight account century nature kitchen.            High   \n",
      "8467                          We seat culture plan.          Medium   \n",
      "8468                                            NaN            High   \n",
      "\n",
      "     Ticket Channel  First Response Time   Time to Resolution  \\\n",
      "0      Social media  2023-06-01 12:15:36                  NaN   \n",
      "1              Chat  2023-06-01 16:45:38                  NaN   \n",
      "2      Social media  2023-06-01 11:14:38  2023-06-01 18:05:38   \n",
      "3      Social media  2023-06-01 07:29:40  2023-06-01 01:57:40   \n",
      "4             Email  2023-06-01 00:12:42  2023-06-01 19:53:42   \n",
      "...             ...                  ...                  ...   \n",
      "8464          Phone                  NaN                  NaN   \n",
      "8465          Email                  NaN                  NaN   \n",
      "8466   Social media  2023-06-01 09:44:22  2023-06-01 04:31:22   \n",
      "8467          Email  2023-06-01 18:28:24  2023-06-01 05:32:24   \n",
      "8468          Phone                  NaN                  NaN   \n",
      "\n",
      "      Customer Satisfaction Rating  \n",
      "0                              NaN  \n",
      "1                              NaN  \n",
      "2                              3.0  \n",
      "3                              3.0  \n",
      "4                              1.0  \n",
      "...                            ...  \n",
      "8464                           NaN  \n",
      "8465                           NaN  \n",
      "8466                           3.0  \n",
      "8467                           3.0  \n",
      "8468                           NaN  \n",
      "\n",
      "[8469 rows x 17 columns]\n"
     ]
    }
   ],
   "source": [
    "print(df)"
   ]
  },
  {
   "cell_type": "code",
   "execution_count": 24,
   "id": "4981a8c7",
   "metadata": {},
   "outputs": [
    {
     "name": "stdout",
     "output_type": "stream",
     "text": [
      "None not found\n"
     ]
    }
   ],
   "source": [
    "if df is None:\n",
    "    print(\"None found\")\n",
    "print(\"None not found\")\n"
   ]
  },
  {
   "cell_type": "code",
   "execution_count": 25,
   "id": "1fd76aeb",
   "metadata": {},
   "outputs": [
    {
     "data": {
      "text/plain": [
       "Ticket ID                       False\n",
       "Customer Name                   False\n",
       "Customer Email                  False\n",
       "Customer Age                    False\n",
       "Customer Gender                 False\n",
       "Product Purchased               False\n",
       "Date of Purchase                False\n",
       "Ticket Type                     False\n",
       "Ticket Subject                  False\n",
       "Ticket Description              False\n",
       "Ticket Status                   False\n",
       "Resolution                       True\n",
       "Ticket Priority                 False\n",
       "Ticket Channel                  False\n",
       "First Response Time              True\n",
       "Time to Resolution               True\n",
       "Customer Satisfaction Rating     True\n",
       "dtype: bool"
      ]
     },
     "execution_count": 25,
     "metadata": {},
     "output_type": "execute_result"
    }
   ],
   "source": [
    "df.isnull().any()"
   ]
  },
  {
   "cell_type": "code",
   "execution_count": 26,
   "id": "5c4834e1",
   "metadata": {},
   "outputs": [
    {
     "data": {
      "text/plain": [
       "Ticket ID                          0\n",
       "Customer Name                      0\n",
       "Customer Email                     0\n",
       "Customer Age                       0\n",
       "Customer Gender                    0\n",
       "Product Purchased                  0\n",
       "Date of Purchase                   0\n",
       "Ticket Type                        0\n",
       "Ticket Subject                     0\n",
       "Ticket Description                 0\n",
       "Ticket Status                      0\n",
       "Resolution                      5700\n",
       "Ticket Priority                    0\n",
       "Ticket Channel                     0\n",
       "First Response Time             2819\n",
       "Time to Resolution              5700\n",
       "Customer Satisfaction Rating    5700\n",
       "dtype: int64"
      ]
     },
     "execution_count": 26,
     "metadata": {},
     "output_type": "execute_result"
    }
   ],
   "source": [
    "df.isnull().sum()"
   ]
  },
  {
   "cell_type": "code",
   "execution_count": 28,
   "id": "6cb8f7ef",
   "metadata": {},
   "outputs": [],
   "source": [
    "df = df.fillna('')"
   ]
  },
  {
   "cell_type": "code",
   "execution_count": 29,
   "id": "08e9e4be",
   "metadata": {},
   "outputs": [
    {
     "data": {
      "text/plain": [
       "Ticket ID                       0\n",
       "Customer Name                   0\n",
       "Customer Email                  0\n",
       "Customer Age                    0\n",
       "Customer Gender                 0\n",
       "Product Purchased               0\n",
       "Date of Purchase                0\n",
       "Ticket Type                     0\n",
       "Ticket Subject                  0\n",
       "Ticket Description              0\n",
       "Ticket Status                   0\n",
       "Resolution                      0\n",
       "Ticket Priority                 0\n",
       "Ticket Channel                  0\n",
       "First Response Time             0\n",
       "Time to Resolution              0\n",
       "Customer Satisfaction Rating    0\n",
       "dtype: int64"
      ]
     },
     "execution_count": 29,
     "metadata": {},
     "output_type": "execute_result"
    }
   ],
   "source": [
    "df.isnull().sum()"
   ]
  },
  {
   "cell_type": "code",
   "execution_count": 30,
   "id": "37a7aa8e",
   "metadata": {},
   "outputs": [
    {
     "data": {
      "text/plain": [
       "0       2021-03-22\n",
       "1       2021-05-22\n",
       "2       2020-07-14\n",
       "3       2020-11-13\n",
       "4       2020-02-04\n",
       "           ...    \n",
       "8464    2021-12-08\n",
       "8465    2020-02-22\n",
       "8466    2021-08-17\n",
       "8467    2021-10-16\n",
       "8468    2020-06-01\n",
       "Name: Date of Purchase, Length: 8469, dtype: object"
      ]
     },
     "execution_count": 30,
     "metadata": {},
     "output_type": "execute_result"
    }
   ],
   "source": [
    "df['Date of Purchase']"
   ]
  },
  {
   "cell_type": "code",
   "execution_count": 31,
   "id": "c229520b",
   "metadata": {},
   "outputs": [],
   "source": [
    "df['Date of Purchase'] = pd.to_datetime(df['Date of Purchase'], errors='coerce')"
   ]
  },
  {
   "cell_type": "code",
   "execution_count": 32,
   "id": "717e7b95",
   "metadata": {},
   "outputs": [
    {
     "data": {
      "text/plain": [
       "0      2021-03-22\n",
       "1      2021-05-22\n",
       "2      2020-07-14\n",
       "3      2020-11-13\n",
       "4      2020-02-04\n",
       "          ...    \n",
       "8464   2021-12-08\n",
       "8465   2020-02-22\n",
       "8466   2021-08-17\n",
       "8467   2021-10-16\n",
       "8468   2020-06-01\n",
       "Name: Date of Purchase, Length: 8469, dtype: datetime64[ns]"
      ]
     },
     "execution_count": 32,
     "metadata": {},
     "output_type": "execute_result"
    }
   ],
   "source": [
    "df['Date of Purchase']"
   ]
  },
  {
   "cell_type": "code",
   "execution_count": 33,
   "id": "359388be",
   "metadata": {},
   "outputs": [
    {
     "name": "stdout",
     "output_type": "stream",
     "text": [
      "                Ticket Subject  \\\n",
      "0                Product setup   \n",
      "1     Peripheral compatibility   \n",
      "2              Network problem   \n",
      "3               Account access   \n",
      "4                    Data loss   \n",
      "...                        ...   \n",
      "8464      Installation support   \n",
      "8465            Refund request   \n",
      "8466            Account access   \n",
      "8467             Payment issue   \n",
      "8468            Hardware issue   \n",
      "\n",
      "                                     Ticket Description  \\\n",
      "0     I'm having an issue with the {product_purchase...   \n",
      "1     I'm having an issue with the {product_purchase...   \n",
      "2     I'm facing a problem with my {product_purchase...   \n",
      "3     I'm having an issue with the {product_purchase...   \n",
      "4     I'm having an issue with the {product_purchase...   \n",
      "...                                                 ...   \n",
      "8464  My {product_purchased} is making strange noise...   \n",
      "8465  I'm having an issue with the {product_purchase...   \n",
      "8466  I'm having an issue with the {product_purchase...   \n",
      "8467  I'm having an issue with the {product_purchase...   \n",
      "8468  There seems to be a hardware problem with my {...   \n",
      "\n",
      "           Product Purchased  \n",
      "0                 GoPro Hero  \n",
      "1                LG Smart TV  \n",
      "2                   Dell XPS  \n",
      "3           Microsoft Office  \n",
      "4           Autodesk AutoCAD  \n",
      "...                      ...  \n",
      "8464                 LG OLED  \n",
      "8465  Bose SoundLink Speaker  \n",
      "8466     GoPro Action Camera  \n",
      "8467             PlayStation  \n",
      "8468      Philips Hue Lights  \n",
      "\n",
      "[8469 rows x 3 columns]\n"
     ]
    }
   ],
   "source": [
    "print(df[['Ticket Subject', 'Ticket Description', 'Product Purchased']])"
   ]
  },
  {
   "cell_type": "code",
   "execution_count": 34,
   "id": "3c52c9fd",
   "metadata": {},
   "outputs": [],
   "source": [
    "text_columns = ['Ticket Subject', 'Ticket Description', 'Product Purchased']\n",
    "for col in text_columns:\n",
    "    if col in df.columns:\n",
    "        df[col] = df[col].astype(str).str.strip()"
   ]
  },
  {
   "cell_type": "code",
   "execution_count": 35,
   "id": "57599179",
   "metadata": {},
   "outputs": [
    {
     "name": "stdout",
     "output_type": "stream",
     "text": [
      "                Ticket Subject  \\\n",
      "0                Product setup   \n",
      "1     Peripheral compatibility   \n",
      "2              Network problem   \n",
      "3               Account access   \n",
      "4                    Data loss   \n",
      "...                        ...   \n",
      "8464      Installation support   \n",
      "8465            Refund request   \n",
      "8466            Account access   \n",
      "8467             Payment issue   \n",
      "8468            Hardware issue   \n",
      "\n",
      "                                     Ticket Description  \\\n",
      "0     I'm having an issue with the {product_purchase...   \n",
      "1     I'm having an issue with the {product_purchase...   \n",
      "2     I'm facing a problem with my {product_purchase...   \n",
      "3     I'm having an issue with the {product_purchase...   \n",
      "4     I'm having an issue with the {product_purchase...   \n",
      "...                                                 ...   \n",
      "8464  My {product_purchased} is making strange noise...   \n",
      "8465  I'm having an issue with the {product_purchase...   \n",
      "8466  I'm having an issue with the {product_purchase...   \n",
      "8467  I'm having an issue with the {product_purchase...   \n",
      "8468  There seems to be a hardware problem with my {...   \n",
      "\n",
      "           Product Purchased  \n",
      "0                 GoPro Hero  \n",
      "1                LG Smart TV  \n",
      "2                   Dell XPS  \n",
      "3           Microsoft Office  \n",
      "4           Autodesk AutoCAD  \n",
      "...                      ...  \n",
      "8464                 LG OLED  \n",
      "8465  Bose SoundLink Speaker  \n",
      "8466     GoPro Action Camera  \n",
      "8467             PlayStation  \n",
      "8468      Philips Hue Lights  \n",
      "\n",
      "[8469 rows x 3 columns]\n"
     ]
    }
   ],
   "source": [
    "print(df[['Ticket Subject', 'Ticket Description', 'Product Purchased']])"
   ]
  },
  {
   "cell_type": "code",
   "execution_count": null,
   "id": "ba2e2a31",
   "metadata": {},
   "outputs": [],
   "source": [
    "documents = []\n",
    "for idx, row in df.iterrows():\n",
    "    doc_parts = []"
   ]
  }
 ],
 "metadata": {
  "kernelspec": {
   "display_name": "Python 3",
   "language": "python",
   "name": "python3"
  },
  "language_info": {
   "codemirror_mode": {
    "name": "ipython",
    "version": 3
   },
   "file_extension": ".py",
   "mimetype": "text/x-python",
   "name": "python",
   "nbconvert_exporter": "python",
   "pygments_lexer": "ipython3",
   "version": "3.10.16"
  }
 },
 "nbformat": 4,
 "nbformat_minor": 5
}
